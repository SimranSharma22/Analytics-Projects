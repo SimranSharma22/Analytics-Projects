{
  "nbformat": 4,
  "nbformat_minor": 0,
  "metadata": {
    "colab": {
      "provenance": [],
      "authorship_tag": "ABX9TyPENPf+Wnku+LMcCW6AEzKv",
      "include_colab_link": true
    },
    "kernelspec": {
      "name": "python3",
      "display_name": "Python 3"
    },
    "language_info": {
      "name": "python"
    }
  },
  "cells": [
    {
      "cell_type": "markdown",
      "metadata": {
        "id": "view-in-github",
        "colab_type": "text"
      },
      "source": [
        "<a href=\"https://colab.research.google.com/github/SimranSharma22/Analytics-Projects/blob/main/Simran_py_minor_project.ipynb\" target=\"_parent\"><img src=\"https://colab.research.google.com/assets/colab-badge.svg\" alt=\"Open In Colab\"/></a>"
      ]
    },
    {
      "cell_type": "code",
      "execution_count": null,
      "metadata": {
        "colab": {
          "base_uri": "https://localhost:8080/"
        },
        "id": "6_MRLVJ0Eaiw",
        "outputId": "a82e942d-f8d0-4591-c1fd-ec850cba4ccd"
      },
      "outputs": [
        {
          "output_type": "stream",
          "name": "stdout",
          "text": [
            "15\n"
          ]
        }
      ],
      "source": [
        "#Task 1\n",
        "#Write a program to create your own function similar to built-in function sum() and print the\n",
        "#sum of numbers present in a list\n",
        "\n",
        "#Answer:-\n",
        "def my_sum(lst):\n",
        "    total = 0\n",
        "    for num in lst:\n",
        "        total += num\n",
        "    return total\n",
        "\n",
        "# Example usage\n",
        "my_list = [1, 2, 3, 4, 5]\n",
        "result = my_sum(my_list)\n",
        "print(result)\n"
      ]
    },
    {
      "cell_type": "code",
      "source": [
        "#Task 2\n",
        "#What is the output of this code snippet?\n",
        "x = [0, 1, 2, 3, 4]\n",
        "x.append(x.copy())\n",
        "print(len(x))\n",
        "\n",
        "#Answer :-\n",
        "#The output of the code is 6.\n",
        "#The last element of x is a list that is a copy of x itself.\n",
        "#This is because slicing a list using the [:] syntax creates a new list that is a copy of the original list."
      ],
      "metadata": {
        "colab": {
          "base_uri": "https://localhost:8080/"
        },
        "id": "geyiZADAFvbr",
        "outputId": "b618f147-9146-4517-aec0-c0a8dbdbf464"
      },
      "execution_count": null,
      "outputs": [
        {
          "output_type": "stream",
          "name": "stdout",
          "text": [
            "6\n"
          ]
        }
      ]
    },
    {
      "cell_type": "code",
      "source": [
        "#Task 3\n",
        "#Write a python program to convert temperature from Celsius to Fahrenheit using the if else\n",
        "#conditions.\n",
        "\n",
        "#Answer :-\n",
        "# get temperature in Celsius from user\n",
        "celsius = float(input(\"Enter temperature in Celsius: \"))\n",
        "\n",
        "# convert Celsius to Fahrenheit using formula: F = (C * 9/5) + 32\n",
        "fahrenheit = (celsius * 9/5) + 32\n",
        "\n",
        "# check if temperature is below freezing point or not\n",
        "if celsius < 0:\n",
        "    print(\"The temperature is below freezing point.\")\n",
        "else:\n",
        "    print(\"The temperature is above freezing point.\")\n",
        "\n",
        "# display the result in Fahrenheit\n",
        "print(\"Temperature in Fahrenheit:\", fahrenheit)\n",
        "\n"
      ],
      "metadata": {
        "colab": {
          "base_uri": "https://localhost:8080/"
        },
        "id": "kE96IucVFx09",
        "outputId": "15642767-e4d4-4125-b96e-ba9fd2b5ffc9"
      },
      "execution_count": null,
      "outputs": [
        {
          "output_type": "stream",
          "name": "stdout",
          "text": [
            "Enter temperature in Celsius: 39\n",
            "The temperature is above freezing point.\n",
            "Temperature in Fahrenheit: 102.2\n"
          ]
        }
      ]
    },
    {
      "cell_type": "code",
      "source": [
        "#Task 4\n",
        "#Write a python program which will input 5 names from user and print the names in an\n",
        "#alphabetical order using sequences\n",
        "\n",
        "#Answer :-\n",
        "# create an empty list to store the names\n",
        "names = []\n",
        "\n",
        "# get 5 names from the user and add them to the list\n",
        "for i in range(5):\n",
        "    name = input(\"Enter a name: \")\n",
        "    names.append(name)\n",
        "\n",
        "# sort the list of names in alphabetical order\n",
        "names.sort()\n",
        "\n",
        "# print the sorted list of names\n",
        "print(\"Names in alphabetical order:\")\n",
        "for name in names:\n",
        "    print(name)\n"
      ],
      "metadata": {
        "colab": {
          "base_uri": "https://localhost:8080/"
        },
        "id": "W3RByEHGGWJ2",
        "outputId": "3ff47abd-074a-4acd-e2f6-f40e420e1923"
      },
      "execution_count": null,
      "outputs": [
        {
          "output_type": "stream",
          "name": "stdout",
          "text": [
            "Enter a name: Simran\n",
            "Enter a name: Shoaib\n",
            "Enter a name: Deepa\n",
            "Enter a name: Bhoomi\n",
            "Enter a name: Virat\n",
            "Names in alphabetical order:\n",
            "Bhoomi\n",
            "Deepa\n",
            "Shoaib\n",
            "Simran\n",
            "Virat\n"
          ]
        }
      ]
    },
    {
      "cell_type": "code",
      "source": [
        "#Task 5\n",
        "#Write a python program to create a numpy array matrix of 5x5 having only odd random\n",
        "#numbers from 0 to 10\n",
        "\n",
        "#Answer :-\n",
        "import numpy as np\n",
        "\n",
        "# create a 5x5 matrix of random odd numbers between 0 and 10\n",
        "arr = np.random.randint(0, 6, size=(5, 5)) * 2 + 1\n",
        "\n",
        "print(arr)\n"
      ],
      "metadata": {
        "colab": {
          "base_uri": "https://localhost:8080/"
        },
        "id": "T6pUYczFGtUu",
        "outputId": "8204c29f-31e3-44a7-bb8c-b326cea2011f"
      },
      "execution_count": null,
      "outputs": [
        {
          "output_type": "stream",
          "name": "stdout",
          "text": [
            "[[ 7  5  7  7  7]\n",
            " [ 7  7  3  9  5]\n",
            " [ 3  3  7  9 11]\n",
            " [ 5  7  7 11  5]\n",
            " [ 9  1  3 11  7]]\n"
          ]
        }
      ]
    }
  ]
}